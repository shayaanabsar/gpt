{
 "cells": [
  {
   "cell_type": "code",
   "execution_count": 230,
   "metadata": {},
   "outputs": [],
   "source": [
    "import torch\n",
    "import torch.nn.functional as F\n",
    "import torch.nn as nn\n",
    "from math import sqrt\n",
    "import matplotlib.pyplot as plt"
   ]
  },
  {
   "cell_type": "code",
   "execution_count": 73,
   "metadata": {},
   "outputs": [],
   "source": [
    "with open('dataset.txt') as f:\n",
    "\ttext = f.read()\n",
    "\n",
    "vocabulary = sorted(list(set(text)))\n",
    "vocab_size = len(vocabulary)\n",
    "\n",
    "stoi = {v:i for i, v in enumerate(vocabulary)}\n",
    "itos = {i:v for i, v in enumerate(vocabulary)}\n",
    "\n",
    "def encode(s): return [stoi[c] for c in s]\n",
    "def decode(i): return [itos[n] for n in i]"
   ]
  },
  {
   "cell_type": "code",
   "execution_count": 207,
   "metadata": {},
   "outputs": [],
   "source": [
    "data = torch.tensor(encode(text))\n",
    "\n",
    "split_v = int(0.9 * len(data))\n",
    "\n",
    "train = data[:split_v]\n",
    "test = data[split_v:]"
   ]
  },
  {
   "cell_type": "code",
   "execution_count": 276,
   "metadata": {},
   "outputs": [],
   "source": [
    "batch_size = 16\n",
    "block_size = 32\n",
    "embedding_dimensions = 64\n",
    "num_heads = 4\n",
    "head_size = embedding_dimensions // num_heads\n",
    "num_decoders = 4\n",
    "learning_rate = 0.01\n",
    "iterations = 10000\n",
    "device = 'mps'"
   ]
  },
  {
   "cell_type": "code",
   "execution_count": 192,
   "metadata": {},
   "outputs": [],
   "source": [
    "def get_batch(data):\n",
    "    indexes = torch.randint(0, len(data)-block_size, (batch_size,))\n",
    "    inputs = torch.stack([data[i:i+block_size] for i in indexes]).to(device)\n",
    "    outputs = torch.stack([data[i+1:i+block_size+1] for i in indexes]).to(device)\n",
    "\n",
    "    return inputs, outputs"
   ]
  },
  {
   "cell_type": "code",
   "execution_count": 154,
   "metadata": {},
   "outputs": [],
   "source": [
    "class FeedForward(nn.Module):\n",
    "\tdef __init__(self):\n",
    "\t\tsuper().__init__()\n",
    "\t\tself.network = nn.Sequential(\n",
    "\t\t\tnn.Linear(embedding_dimensions, embedding_dimensions),\n",
    "\t\t\tnn.ReLU(),\n",
    "\t\t\tnn.Linear(embedding_dimensions, embedding_dimensions)\n",
    "\t\t)\n",
    "\n",
    "\tdef forward(self, data):\n",
    "\t\treturn self.network(data)\n",
    "\t\n",
    "test = FeedForward().forward(torch.randn(embedding_dimensions))"
   ]
  },
  {
   "cell_type": "code",
   "execution_count": 155,
   "metadata": {},
   "outputs": [],
   "source": [
    "class AttentionHead(nn.Module):\n",
    "\tdef __init__(self):\n",
    "\t\tsuper().__init__()\n",
    "\t\tself.key = nn.Linear(embedding_dimensions, head_size, bias=False)\n",
    "\t\tself.query = nn.Linear(embedding_dimensions, head_size, bias=False)\n",
    "\t\tself.value = nn.Linear(embedding_dimensions, head_size, bias=False)\n",
    "\t\tself.register_buffer('tril', torch.tril(torch.ones(block_size, block_size)))\n",
    "\n",
    "\tdef forward(self, data):\n",
    "\t\tbatches, time, channels = data.shape\n",
    "\n",
    "\t\tkey, query, value = self.key(data), self.query(data), self.value(data)\n",
    "\t\tmat_mul_1 = query @ key.transpose(-2, -1)\n",
    "\t\tscaled = mat_mul_1 / sqrt(channels)\n",
    "\t\tmask = scaled.masked_fill(self.tril == 0, float('-inf'))\n",
    "\t\tsoftmax = F.softmax(mask, dim=-1)\n",
    "\t\tout = softmax @ value\n",
    "\n",
    "\t\treturn out\n",
    "\n",
    "test = AttentionHead().forward(torch.randn((batch_size, block_size, embedding_dimensions)))"
   ]
  },
  {
   "cell_type": "code",
   "execution_count": 149,
   "metadata": {},
   "outputs": [],
   "source": [
    "class MultiHeadAttention(nn.Module):\n",
    "\tdef __init__(self):\n",
    "\t\tsuper().__init__()\n",
    "\t\tself.heads = nn.ModuleList([AttentionHead() for _ in range(num_heads)])\n",
    "\t\tself.projection = nn.Linear(embedding_dimensions, embedding_dimensions)\n",
    "\t\n",
    "\tdef forward(self, data):\n",
    "\t\treturn self.projection(torch.cat([head(data) for head in self.heads], dim=-1))\n",
    "\n",
    "test = MultiHeadAttention().forward(torch.randn((batch_size, block_size, embedding_dimensions)))"
   ]
  },
  {
   "cell_type": "code",
   "execution_count": 195,
   "metadata": {},
   "outputs": [],
   "source": [
    "class DecoderBlock(nn.Module):\n",
    "\tdef __init__(self):\n",
    "\t\tsuper().__init__()\n",
    "\t\tself.attention = MultiHeadAttention()\n",
    "\t\tself.norm1 = nn.LayerNorm(embedding_dimensions)\n",
    "\t\tself.feed_forward = FeedForward()\n",
    "\t\tself.norm2 = nn.LayerNorm(embedding_dimensions)\n",
    "\n",
    "\tdef forward(self, data):\n",
    "\t\tdata = data + self.attention(self.norm1(data))\n",
    "\t\tdata = data + self.feed_forward(self.norm2(data))\n",
    "\n",
    "\t\treturn data\n",
    "\n",
    "test = DecoderBlock().forward(torch.randn((batch_size, block_size, embedding_dimensions)))"
   ]
  },
  {
   "cell_type": "code",
   "execution_count": 274,
   "metadata": {},
   "outputs": [],
   "source": [
    "class GPT(nn.Module):\n",
    "\tdef __init__(self):\n",
    "\t\tsuper().__init__()\n",
    "\t\tself.embedding_space     = nn.Embedding(vocab_size, embedding_dimensions)\n",
    "\t\tself.positional_encoding = nn.Embedding(block_size, embedding_dimensions)\n",
    "\t\tself.blocks = nn.Sequential(*[DecoderBlock() for _ in range(num_decoders)])\n",
    "\t\tself.norm = nn.LayerNorm(embedding_dimensions)\n",
    "\t\tself.linear = nn.Linear(embedding_dimensions, vocab_size)\n",
    "\t\t\n",
    "\tdef forward(self, data, outputs=None):\n",
    "\t\tbatches, time = data.shape\n",
    "\n",
    "\t\tdata = self.embedding_space(data) + self.positional_encoding(torch.arange(time, device=device))\n",
    "\t\tdata = self.blocks(data)\n",
    "\t\tlogits = self.linear(data)\n",
    "\n",
    "\t\tif outputs is not None:\n",
    "\t\t\tbatches, time, channels = logits.shape\n",
    "\t\t\tloss = F.cross_entropy(logits.view(batches*time, channels), outputs.view(batches*time))\n",
    "\t\telse:\n",
    "\t\t\tloss = None\n",
    "\n",
    "\t\treturn logits, loss\n",
    "\t\n",
    "\tdef generate(self, input, num_tokens):\n",
    "\t\tfor _ in range(num_tokens):\n",
    "\t\t\tinput_clipped = input[:,-block_size:]\n",
    "\t\t\tlogits,_ = self(input_clipped)\n",
    "\t\t\tlogits = logits[:, -1, :]\n",
    "\t\t\tprobabilities = F.softmax(logits, dim=-1)\n",
    "\t\t\tsampled = torch.multinomial(probabilities, 1)\n",
    "\t\t\tinput = torch.cat((input, sampled), dim=1)\n",
    "\t\treturn input\n"
   ]
  },
  {
   "cell_type": "code",
   "execution_count": 277,
   "metadata": {},
   "outputs": [
    {
     "name": "stdout",
     "output_type": "stream",
     "text": [
      "Train loss: 5.00273323059082. Test loss: 4.527811050415039\n",
      "Train loss: 2.649700164794922. Test loss: 2.4802560806274414\n",
      "Train loss: 2.327953815460205. Test loss: 2.3812484741210938\n",
      "Train loss: 2.1594767570495605. Test loss: 2.0880727767944336\n",
      "Train loss: 1.9641660451889038. Test loss: 2.1363906860351562\n",
      "Train loss: 2.1111409664154053. Test loss: 2.180530548095703\n",
      "Train loss: 1.9776638746261597. Test loss: 2.0057220458984375\n",
      "Train loss: 2.021522045135498. Test loss: 1.9968910217285156\n",
      "Train loss: 1.920299768447876. Test loss: 2.0866899490356445\n",
      "Train loss: 2.0786168575286865. Test loss: 2.108506202697754\n",
      "Train loss: 2.1214513778686523. Test loss: 1.94478178024292\n",
      "Train loss: 2.0888466835021973. Test loss: 2.0855331420898438\n",
      "Train loss: 1.9859188795089722. Test loss: 1.9835186004638672\n",
      "Train loss: 1.8990674018859863. Test loss: 1.9104290008544922\n",
      "Train loss: 2.02260422706604. Test loss: 1.9116661548614502\n",
      "Train loss: 1.8395191431045532. Test loss: 1.909994125366211\n",
      "Train loss: 1.9323370456695557. Test loss: 2.0509042739868164\n",
      "Train loss: 1.8348619937896729. Test loss: 1.9598450660705566\n",
      "Train loss: 2.041408061981201. Test loss: 1.9721496105194092\n",
      "Train loss: 2.0319225788116455. Test loss: 1.919548749923706\n",
      "Train loss: 1.9715347290039062. Test loss: 1.9191699028015137\n",
      "Train loss: 1.8121387958526611. Test loss: 2.146674394607544\n",
      "Train loss: 2.064767837524414. Test loss: 1.8656120300292969\n",
      "Train loss: 1.9901922941207886. Test loss: 1.925024390220642\n",
      "Train loss: 1.8627567291259766. Test loss: 1.993651032447815\n",
      "Train loss: 1.7408913373947144. Test loss: 1.7558321952819824\n",
      "Train loss: 1.7972215414047241. Test loss: 1.8075056076049805\n",
      "Train loss: 1.7853882312774658. Test loss: 1.763284683227539\n",
      "Train loss: 1.7483361959457397. Test loss: 1.8177623748779297\n",
      "Train loss: 1.8652193546295166. Test loss: 1.8361071348190308\n",
      "Train loss: 1.7851969003677368. Test loss: 1.9241105318069458\n",
      "Train loss: 1.8124760389328003. Test loss: 1.6929259300231934\n",
      "Train loss: 1.9078691005706787. Test loss: 1.9272243976593018\n",
      "Train loss: 1.8983970880508423. Test loss: 1.7789199352264404\n",
      "Train loss: 1.8424568176269531. Test loss: 1.8919222354888916\n",
      "Train loss: 1.977124571800232. Test loss: 1.8256704807281494\n",
      "Train loss: 1.94657301902771. Test loss: 1.6817619800567627\n",
      "Train loss: 1.7599513530731201. Test loss: 1.8320128917694092\n",
      "Train loss: 1.8389173746109009. Test loss: 1.7465174198150635\n",
      "Train loss: 1.7747799158096313. Test loss: 1.7920945882797241\n",
      "Train loss: 1.8160316944122314. Test loss: 1.8705310821533203\n",
      "Train loss: 1.7999639511108398. Test loss: 1.7949072122573853\n",
      "Train loss: 1.9058289527893066. Test loss: 1.7763690948486328\n",
      "Train loss: 1.81512451171875. Test loss: 1.696709394454956\n",
      "Train loss: 1.779893159866333. Test loss: 1.718152403831482\n",
      "Train loss: 1.9014883041381836. Test loss: 1.7475271224975586\n",
      "Train loss: 1.64118492603302. Test loss: 1.8746552467346191\n",
      "Train loss: 1.6347178220748901. Test loss: 1.934335470199585\n",
      "Train loss: 1.756230115890503. Test loss: 1.6620935201644897\n",
      "Train loss: 1.7846598625183105. Test loss: 1.8697545528411865\n",
      "Train loss: 1.6789264678955078. Test loss: 1.771419644355774\n",
      "Train loss: 1.8325958251953125. Test loss: 1.8019273281097412\n",
      "Train loss: 1.9417688846588135. Test loss: 1.6900163888931274\n",
      "Train loss: 1.6927472352981567. Test loss: 1.7785670757293701\n",
      "Train loss: 1.698136329650879. Test loss: 1.8999392986297607\n",
      "Train loss: 1.713446855545044. Test loss: 1.9820609092712402\n",
      "Train loss: 1.834526538848877. Test loss: 1.8160769939422607\n",
      "Train loss: 1.763018012046814. Test loss: 1.6901895999908447\n",
      "Train loss: 1.9211145639419556. Test loss: 1.9803173542022705\n",
      "Train loss: 1.8685028553009033. Test loss: 2.011410713195801\n",
      "Train loss: 1.9080514907836914. Test loss: 1.8444443941116333\n",
      "Train loss: 1.7055680751800537. Test loss: 1.8163338899612427\n",
      "Train loss: 1.9528523683547974. Test loss: 1.7905566692352295\n",
      "Train loss: 1.7763344049453735. Test loss: 1.8314002752304077\n",
      "Train loss: 1.7710764408111572. Test loss: 1.8333351612091064\n",
      "Train loss: 1.8034051656723022. Test loss: 1.761819839477539\n",
      "Train loss: 1.8161591291427612. Test loss: 1.7375402450561523\n",
      "Train loss: 1.7418947219848633. Test loss: 1.812972903251648\n",
      "Train loss: 1.8576042652130127. Test loss: 1.9050633907318115\n",
      "Train loss: 1.8715153932571411. Test loss: 1.704968810081482\n",
      "Train loss: 1.8071480989456177. Test loss: 1.674458622932434\n",
      "Train loss: 1.8073430061340332. Test loss: 1.762876272201538\n",
      "Train loss: 1.7295374870300293. Test loss: 1.8353265523910522\n",
      "Train loss: 1.7117438316345215. Test loss: 1.6071813106536865\n",
      "Train loss: 1.7502121925354004. Test loss: 1.7694315910339355\n",
      "Train loss: 1.6671040058135986. Test loss: 1.9284460544586182\n",
      "Train loss: 1.7512829303741455. Test loss: 1.8480656147003174\n",
      "Train loss: 1.8542430400848389. Test loss: 1.6882586479187012\n",
      "Train loss: 1.6811325550079346. Test loss: 1.8961479663848877\n",
      "Train loss: 1.628230333328247. Test loss: 1.5729174613952637\n",
      "Train loss: 1.6726778745651245. Test loss: 1.8165454864501953\n",
      "Train loss: 1.8421807289123535. Test loss: 1.722912311553955\n",
      "Train loss: 1.7744007110595703. Test loss: 1.7961511611938477\n",
      "Train loss: 1.8094372749328613. Test loss: 1.8071844577789307\n",
      "Train loss: 1.8374245166778564. Test loss: 1.773097276687622\n",
      "Train loss: 1.74924898147583. Test loss: 1.778038740158081\n",
      "Train loss: 1.737680196762085. Test loss: 1.8087692260742188\n",
      "Train loss: 1.779205322265625. Test loss: 1.9058992862701416\n",
      "Train loss: 1.7287226915359497. Test loss: 1.7787307500839233\n",
      "Train loss: 1.7428021430969238. Test loss: 1.924234390258789\n",
      "Train loss: 1.7449204921722412. Test loss: 1.748033046722412\n",
      "Train loss: 1.7370383739471436. Test loss: 1.5878286361694336\n",
      "Train loss: 1.648970603942871. Test loss: 1.789438009262085\n",
      "Train loss: 1.783873200416565. Test loss: 1.7758891582489014\n",
      "Train loss: 1.7610416412353516. Test loss: 1.725832462310791\n",
      "Train loss: 1.7628939151763916. Test loss: 1.884910225868225\n",
      "Train loss: 1.6083418130874634. Test loss: 1.9012603759765625\n",
      "Train loss: 1.799149990081787. Test loss: 1.4826862812042236\n",
      "Train loss: 1.7189321517944336. Test loss: 1.7770251035690308\n",
      "Train loss: 1.5774023532867432. Test loss: 1.728285551071167\n"
     ]
    }
   ],
   "source": [
    "model = GPT()\n",
    "model.to(device)\n",
    "optimizer = torch.optim.AdamW(model.parameters(), lr=learning_rate)\n",
    "\n",
    "times = [i for i in range(iterations)]\n",
    "losses = []\n",
    "\n",
    "for i in range(iterations):\n",
    "\tx, y = get_batch(train)\n",
    "\n",
    "\tlogits, loss = model(x, y)\n",
    "\toptimizer.zero_grad(set_to_none=True)\n",
    "\tloss.backward()\n",
    "\toptimizer.step()\n",
    "\n",
    "\tif i % 100 == 0:\n",
    "\t\tx, y = get_batch(test)\n",
    "\t\tlogits, test_loss = model(x, y)\n",
    "\t\tprint(f'Train loss: {loss}. Test loss: {test_loss}')\n",
    "\tlosses.append(loss.item())"
   ]
  },
  {
   "cell_type": "code",
   "execution_count": 278,
   "metadata": {},
   "outputs": [
    {
     "data": {
      "text/plain": [
       "[<matplotlib.lines.Line2D at 0x296987e90>]"
      ]
     },
     "execution_count": 278,
     "metadata": {},
     "output_type": "execute_result"
    },
    {
     "data": {
      "image/png": "[encoded data removed]",
      "text/plain": [
       "<Figure size 640x480 with 1 Axes>"
      ]
     },
     "metadata": {},
     "output_type": "display_data"
    }
   ],
   "source": [
    "plt.plot(times, losses)"
   ]
  },
  {
   "cell_type": "code",
   "execution_count": 299,
   "metadata": {},
   "outputs": [],
   "source": [
    "context = torch.zeros((1, block_size), dtype=torch.long, device=device)\n",
    "output = model.generate(context, num_tokens=500)"
   ]
  },
  {
   "cell_type": "code",
   "execution_count": 300,
   "metadata": {},
   "outputs": [
    {
     "name": "stdout",
     "output_type": "stream",
     "text": [
      "<<THIS mutwoxt; becn, naves their staboing then tnear strings; mother?\n",
      "    Have offen them, strence? That besenct from to would\n",
      "     For with thought, for by tooth the princle holn brangs\n",
      "    that your peopblusude till quint,\n",
      "    There for thesee have count ry dare sdings, to then genny bring;\n",
      "    And friendsty, my lordsiou, mere, them have tring, weels _tringen fell\n",
      "    A grive thren the by brone. Stret, both and intersinance that Pould thyself\n",
      "    If In trinness not the charit\n",
      "    Then mpselve\n"
     ]
    }
   ],
   "source": [
    "print(''.join(decode(output[0].tolist()[block_size:])))"
   ]
  }
 ],
 "metadata": {
  "kernelspec": {
   "display_name": "Python 3",
   "language": "python",
   "name": "python3"
  },
  "language_info": {
   "codemirror_mode": {
    "name": "ipython",
    "version": 3
   },
   "file_extension": ".py",
   "mimetype": "text/x-python",
   "name": "python",
   "nbconvert_exporter": "python",
   "pygments_lexer": "ipython3",
   "version": "3.11.2"
  },
  "orig_nbformat": 4
 },
 "nbformat": 4,
 "nbformat_minor": 2
}
